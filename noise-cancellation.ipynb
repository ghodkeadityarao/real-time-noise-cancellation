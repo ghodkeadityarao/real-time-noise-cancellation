{
 "cells": [
  {
   "cell_type": "code",
   "execution_count": 12,
   "id": "0a4d539d-e273-448b-a6a7-34f177ad8a78",
   "metadata": {},
   "outputs": [
    {
     "name": "stdout",
     "output_type": "stream",
     "text": [
      "Collecting keyboard\n",
      "  Downloading keyboard-0.13.5-py3-none-any.whl.metadata (4.0 kB)\n",
      "Downloading keyboard-0.13.5-py3-none-any.whl (58 kB)\n",
      "   ---------------------------------------- 0.0/58.1 kB ? eta -:--:--\n",
      "   -------------------- ------------------ 30.7/58.1 kB 660.6 kB/s eta 0:00:01\n",
      "   --------------------------------------- 58.1/58.1 kB 771.9 kB/s eta 0:00:00\n",
      "Installing collected packages: keyboard\n",
      "Successfully installed keyboard-0.13.5\n",
      "Note: you may need to restart the kernel to use updated packages.\n"
     ]
    }
   ],
   "source": [
    "%pip install keyboard pyAudio"
   ]
  },
  {
   "cell_type": "code",
   "execution_count": 1,
   "id": "4aa1bf30-3264-493d-8398-c99c49865160",
   "metadata": {},
   "outputs": [],
   "source": [
    "import pyaudio\n",
    "import numpy as np\n",
    "import wave\n",
    "from scipy.signal import butter, lfilter\n",
    "import keyboard"
   ]
  },
  {
   "cell_type": "code",
   "execution_count": 3,
   "id": "06de123b-79a3-40ff-95a0-ad104fbdde73",
   "metadata": {},
   "outputs": [
    {
     "name": "stdout",
     "output_type": "stream",
     "text": [
      "Recording and processing in real-time... Press 'p' to pause, 'r' to resume, and Ctrl+C to stop.\n",
      "\n",
      "Stopped by user (Ctrl+C).\n",
      "Processed audio saved as output_cleaned.wav\n"
     ]
    }
   ],
   "source": [
    "# Constants\n",
    "CHUNK = 1024  # Number of audio samples per frame\n",
    "FORMAT = pyaudio.paInt16  # Audio format\n",
    "CHANNELS = 1  # Mono audio\n",
    "RATE = 44100  # Sampling rate (Hz)\n",
    "LATENCY_THRESHOLD = 100  # Max latency (ms)\n",
    "FILE_NAME = \"output_cleaned.wav\"  # Output file name\n",
    "\n",
    "# Butterworth filter for noise reduction\n",
    "def butter_bandpass(lowcut, highcut, fs, order=5):\n",
    "    nyquist = 0.5 * fs\n",
    "    low = lowcut / nyquist\n",
    "    high = highcut / nyquist\n",
    "    b, a = butter(order, [low, high], btype='band')\n",
    "    return b, a\n",
    "\n",
    "def bandpass_filter(data, lowcut, highcut, fs, order=5):\n",
    "    b, a = butter_bandpass(lowcut, highcut, fs, order=order)\n",
    "    y = lfilter(b, a, data)\n",
    "    return y\n",
    "\n",
    "audio = pyaudio.PyAudio() # Initialize PyAudio\n",
    "stream = audio.open(format=FORMAT, channels=CHANNELS, rate=RATE, input=True, output=True, frames_per_buffer=CHUNK)  # Open audio stream\n",
    "\n",
    "print(\"Recording and processing in real-time... Press 'p' to pause, 'r' to resume, and Pause the Code to stop.\")\n",
    "\n",
    "wf = wave.open(FILE_NAME, 'wb')\n",
    "wf.setnchannels(CHANNELS)\n",
    "wf.setsampwidth(audio.get_sample_size(FORMAT))\n",
    "wf.setframerate(RATE)\n",
    "\n",
    "is_paused = False \n",
    "try:\n",
    "    while True:\n",
    "        if keyboard.is_pressed('p'):\n",
    "            if not is_paused:\n",
    "                print(\"Pausing...\")\n",
    "                is_paused = True  \n",
    "        elif keyboard.is_pressed('r'):\n",
    "            if is_paused:\n",
    "                print(\"Resuming...\")\n",
    "                is_paused = False  \n",
    "        if not is_paused:\n",
    "            raw_data = stream.read(CHUNK, exception_on_overflow=False)\n",
    "            np_data = np.frombuffer(raw_data, dtype=np.int16)\n",
    "\n",
    "            cleaned_data = bandpass_filter(np_data, lowcut=300, highcut=3400, fs=RATE, order=6)\n",
    "            output_data = cleaned_data.astype(np.int16).tobytes()\n",
    "            stream.write(output_data)\n",
    "            wf.writeframes(output_data)\n",
    "\n",
    "except KeyboardInterrupt:\n",
    "    print(\"\\nStopped by user (Ctrl+C).\")\n",
    "\n",
    "finally:\n",
    "    stream.stop_stream()\n",
    "    stream.close()\n",
    "    audio.terminate()\n",
    "    wf.close()\n",
    "    print(f\"Processed audio saved as {FILE_NAME}\")"
   ]
  },
  {
   "cell_type": "code",
   "execution_count": null,
   "id": "627f335f-9303-4914-9cf4-1a5990731934",
   "metadata": {},
   "outputs": [],
   "source": []
  }
 ],
 "metadata": {
  "kernelspec": {
   "display_name": "Python 3 (ipykernel)",
   "language": "python",
   "name": "python3"
  },
  "language_info": {
   "codemirror_mode": {
    "name": "ipython",
    "version": 3
   },
   "file_extension": ".py",
   "mimetype": "text/x-python",
   "name": "python",
   "nbconvert_exporter": "python",
   "pygments_lexer": "ipython3",
   "version": "3.12.4"
  }
 },
 "nbformat": 4,
 "nbformat_minor": 5
}
